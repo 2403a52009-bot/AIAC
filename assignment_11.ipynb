{
  "nbformat": 4,
  "nbformat_minor": 0,
  "metadata": {
    "colab": {
      "provenance": []
    },
    "kernelspec": {
      "name": "python3",
      "display_name": "Python 3"
    },
    "language_info": {
      "name": "python"
    }
  },
  "cells": [
    {
      "cell_type": "markdown",
      "source": [
        "## Prompt 1: Stack Implementation\n",
        "\n",
        "**prompt:**\n",
        "\n",
        "I'm working on understanding data structures better. Could you help me create a Stack class in Python? I need it to have the basic operations like push (to add items), pop (to remove the top item), peek (to see what's on top without removing it), and a way to check if the stack is empty. It would be great if you could add some comments explaining how it works!"
      ],
      "metadata": {
        "id": "QjG9wsE19MQP"
      }
    },
    {
      "cell_type": "code",
      "source": [
        "# Stack Implementation - AI Generated Code\n",
        "\n",
        "class Stack:\n",
        "    \"\"\"\n",
        "    A Stack is a Last-In-First-Out (LIFO) data structure.\n",
        "    Think of it like a stack of plates - you add and remove from the top.\n",
        "    \"\"\"\n",
        "\n",
        "    def __init__(self):\n",
        "        \"\"\"Initialize an empty stack using a Python list\"\"\"\n",
        "        self.items = []\n",
        "\n",
        "    def push(self, item):\n",
        "        \"\"\"Add an item to the top of the stack\"\"\"\n",
        "        self.items.append(item)\n",
        "        print(f\"Pushed {item} onto the stack\")\n",
        "\n",
        "    def pop(self):\n",
        "        \"\"\"Remove and return the top item from the stack\"\"\"\n",
        "        if self.is_empty():\n",
        "            return \"Stack is empty! Cannot pop.\"\n",
        "        return self.items.pop()\n",
        "\n",
        "    def peek(self):\n",
        "        \"\"\"Return the top item without removing it\"\"\"\n",
        "        if self.is_empty():\n",
        "            return \"Stack is empty! Nothing to peek.\"\n",
        "        return self.items[-1]\n",
        "\n",
        "    def is_empty(self):\n",
        "        \"\"\"Check if the stack is empty\"\"\"\n",
        "        return len(self.items) == 0\n",
        "\n",
        "    def size(self):\n",
        "        \"\"\"Return the number of items in the stack\"\"\"\n",
        "        return len(self.items)\n",
        "\n",
        "# Testing the Stack\n",
        "print(\"=== Stack Demo ===\")\n",
        "stack = Stack()\n",
        "stack.push(10)\n",
        "stack.push(20)\n",
        "stack.push(30)\n",
        "print(f\"Top element: {stack.peek()}\")\n",
        "print(f\"Popped: {stack.pop()}\")\n",
        "print(f\"Top element after pop: {stack.peek()}\")\n",
        "print(f\"Is stack empty? {stack.is_empty()}\")\n",
        "print(f\"Stack size: {stack.size()}\")\n",
        "\n",
        "# Explanation:\n",
        "# The Stack uses a Python list internally. Push adds to the end (O(1) time),\n",
        "# pop removes from the end (O(1) time), making it very efficient!"
      ],
      "metadata": {
        "id": "Wvuy8hEl9Rqc",
        "colab": {
          "base_uri": "https://localhost:8080/"
        },
        "outputId": "cf9ef188-3d6c-4c38-9d61-7fdf42f4f548"
      },
      "execution_count": 3,
      "outputs": [
        {
          "output_type": "stream",
          "name": "stdout",
          "text": [
            "=== Stack Demo ===\n",
            "Pushed 10 onto the stack\n",
            "Pushed 20 onto the stack\n",
            "Pushed 30 onto the stack\n",
            "Top element: 30\n",
            "Popped: 30\n",
            "Top element after pop: 20\n",
            "Is stack empty? False\n",
            "Stack size: 2\n"
          ]
        }
      ]
    },
    {
      "cell_type": "markdown",
      "source": [
        "## Prompt 2: Queue Implementation\n",
        "\n",
        "**prompt:**\n",
        "\n",
        "I'm trying to learn about queues in Python. Could you show me how to build a Queue class from scratch? I need methods for enqueue (adding items to the back), dequeue (removing items from the front), and checking if the queue is empty. Basically, like a line at a coffee shop - first come, first served! Some comments would really help me understand what's happening at each step."
      ],
      "metadata": {
        "id": "B2x_V8x19W-n"
      }
    },
    {
      "cell_type": "code",
      "source": [
        "# Queue Implementation - AI Generated Code\n",
        "\n",
        "class Queue:\n",
        "    \"\"\"\n",
        "    A Queue is a First-In-First-Out (FIFO) data structure.\n",
        "    Like a line at a coffee shop - whoever arrives first gets served first!\n",
        "    \"\"\"\n",
        "\n",
        "    def __init__(self):\n",
        "        \"\"\"Initialize an empty queue using a Python list\"\"\"\n",
        "        self.items = []\n",
        "\n",
        "    def enqueue(self, item):\n",
        "        \"\"\"Add an item to the back of the queue\"\"\"\n",
        "        self.items.append(item)\n",
        "        print(f\"Enqueued {item} to the queue\")\n",
        "\n",
        "    def dequeue(self):\n",
        "        \"\"\"Remove and return the front item from the queue\"\"\"\n",
        "        if self.is_empty():\n",
        "            return \"Queue is empty! Cannot dequeue.\"\n",
        "        # Remove from index 0 (front of the queue)\n",
        "        return self.items.pop(0)\n",
        "\n",
        "    def is_empty(self):\n",
        "        \"\"\"Check if the queue is empty\"\"\"\n",
        "        return len(self.items) == 0\n",
        "\n",
        "    def size(self):\n",
        "        \"\"\"Return the number of items in the queue\"\"\"\n",
        "        return len(self.items)\n",
        "\n",
        "    def front(self):\n",
        "        \"\"\"Return the front item without removing it\"\"\"\n",
        "        if self.is_empty():\n",
        "            return \"Queue is empty!\"\n",
        "        return self.items[0]\n",
        "\n",
        "# Testing the Queue\n",
        "print(\"=== Queue Demo ===\")\n",
        "queue = Queue()\n",
        "queue.enqueue(\"Customer 1\")\n",
        "queue.enqueue(\"Customer 2\")\n",
        "queue.enqueue(\"Customer 3\")\n",
        "print(f\"Front of queue: {queue.front()}\")\n",
        "print(f\"Dequeued: {queue.dequeue()}\")\n",
        "print(f\"New front: {queue.front()}\")\n",
        "print(f\"Is queue empty? {queue.is_empty()}\")\n",
        "print(f\"Queue size: {queue.size()}\")\n",
        "\n",
        "# Explanation:\n",
        "# This Queue uses a list where we add to the back (append) and remove from the front (pop(0)).\n",
        "# Note: pop(0) is O(n) time complexity, but for learning purposes this works well!"
      ],
      "metadata": {
        "id": "_18b3IQx9cNs",
        "colab": {
          "base_uri": "https://localhost:8080/"
        },
        "outputId": "be40ae85-c32a-480f-d790-050e9ea7d3fe"
      },
      "execution_count": 2,
      "outputs": [
        {
          "output_type": "stream",
          "name": "stdout",
          "text": [
            "=== Queue Demo ===\n",
            "Enqueued Customer 1 to the queue\n",
            "Enqueued Customer 2 to the queue\n",
            "Enqueued Customer 3 to the queue\n",
            "Front of queue: Customer 1\n",
            "Dequeued: Customer 1\n",
            "New front: Customer 2\n",
            "Is queue empty? False\n",
            "Queue size: 2\n"
          ]
        }
      ]
    },
    {
      "cell_type": "markdown",
      "source": [
        "##Prompt 3:  Linked List Implementation\n",
        "\n",
        "**prompt:**\n",
        "\n",
        "help me understand how a singly linked list works in Python?  \n",
        "I'd like a class with methods f**Prompt 3:  Linked List Implementation**or `insert_at_end(data)`, `insert_at_beginning(data)`, and a `display()` method to show the linked list contents.  \n",
        "Please include comments so I can learn from the **code**"
      ],
      "metadata": {
        "id": "4hVY-g6lD3AJ"
      }
    },
    {
      "cell_type": "code",
      "source": [
        "class Node:\n",
        "    def __init__(self, data):\n",
        "        self.data = data\n",
        "        self.next = None\n",
        "\n",
        "class SinglyLinkedList:\n",
        "    def __init__(self):\n",
        "        self.head = None\n",
        "\n",
        "    def insert_at_end(self, data):\n",
        "        new_node = Node(data)\n",
        "        if not self.head:\n",
        "            self.head = new_node\n",
        "            return\n",
        "        current = self.head\n",
        "        while current.next:\n",
        "            current = current.next\n",
        "        current.next = new_node\n",
        "\n",
        "    def insert_at_beginning(self, data):\n",
        "        new_node = Node(data)\n",
        "        new_node.next = self.head\n",
        "        self.head = new_node\n",
        "\n",
        "    def display(self):\n",
        "        elements = []\n",
        "        current = self.head\n",
        "        while current:\n",
        "            elements.append(current.data)\n",
        "            current = current.next\n",
        "        return elements\n",
        "\n",
        "# Example usage:\n",
        "ll = SinglyLinkedList()\n",
        "ll.insert_at_end(10)\n",
        "ll.insert_at_beginning(5)\n",
        "ll.insert_at_end(20)\n",
        "print(\"Linked List:\", ll.display())\n"
      ],
      "metadata": {
        "id": "v2yaPoA6EYCV",
        "outputId": "08488d97-6862-4206-b185-d6fc8c421d0b",
        "colab": {
          "base_uri": "https://localhost:8080/"
        }
      },
      "execution_count": 1,
      "outputs": [
        {
          "output_type": "stream",
          "name": "stdout",
          "text": [
            "Linked List: [5, 10, 20]\n"
          ]
        }
      ]
    },
    {
      "cell_type": "markdown",
      "source": [
        "##Prompt 4: Binary Search Tree (BST)\n",
        "\n",
        "**prompt:**\n",
        "\n",
        "I'm working on data structures and want to learn about binary search trees in Python.  \n",
        "Could you build a simple BST class with `insert(key)` and `inorder_traversal()` methods?  \n",
        "Comments throughout the code would be very helpful for my understanding."
      ],
      "metadata": {
        "id": "nqbBfv3ZFHjH"
      }
    },
    {
      "cell_type": "code",
      "source": [
        "class BSTNode:\n",
        "    def __init__(self, key):\n",
        "        self.key = key\n",
        "        self.left = None\n",
        "        self.right = None\n",
        "\n",
        "class BinarySearchTree:\n",
        "    def __init__(self):\n",
        "        self.root = None\n",
        "\n",
        "    def insert(self, key):\n",
        "        def _insert(root, key):\n",
        "            if root is None:\n",
        "                return BSTNode(key)\n",
        "            if key < root.key:\n",
        "                root.left = _insert(root.left, key)\n",
        "            else:\n",
        "                root.right = _insert(root.right, key)\n",
        "            return root\n",
        "        self.root = _insert(self.root, key)\n",
        "\n",
        "    def inorder_traversal(self):\n",
        "        result = []\n",
        "        def _inorder(node):\n",
        "            if node:\n",
        "                _inorder(node.left)\n",
        "                result.append(node.key)\n",
        "                _inorder(node.right)\n",
        "        _inorder(self.root)\n",
        "        return result\n",
        "\n",
        "# Example usage:\n",
        "bst = BinarySearchTree()\n",
        "bst.insert(10)\n",
        "bst.insert(20)\n",
        "bst.insert(5)\n",
        "print(\"Inorder Traversal of BST:\", bst.inorder_traversal())\n"
      ],
      "metadata": {
        "id": "qbBXnzD-FbLS",
        "outputId": "b4c25eb7-1be4-4e00-f932-155c86204453",
        "colab": {
          "base_uri": "https://localhost:8080/"
        }
      },
      "execution_count": 4,
      "outputs": [
        {
          "output_type": "stream",
          "name": "stdout",
          "text": [
            "Inorder Traversal of BST: [5, 10, 20]\n"
          ]
        }
      ]
    }
  ]
}
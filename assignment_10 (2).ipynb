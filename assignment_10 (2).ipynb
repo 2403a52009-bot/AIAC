{
  "nbformat": 4,
  "nbformat_minor": 0,
  "metadata": {
    "colab": {
      "provenance": []
    },
    "kernelspec": {
      "name": "python3",
      "display_name": "Python 3"
    },
    "language_info": {
      "name": "python"
    }
  },
  "cells": [
    {
      "cell_type": "code",
      "execution_count": null,
      "metadata": {
        "id": "FYjncOWEqJDH"
      },
      "outputs": [],
      "source": []
    },
    {
      "cell_type": "markdown",
      "source": [
        "# Assignment 10.2: Code Review and Quality\n",
        "## Using AI to Improve Code Quality and Readability\n",
        "\n",
        "**Student Name:** RUDROJU PRANAY KUMAR  \n",
        "**Roll Number:** 2403a52009  \n",
        "**Course:** AI Assisted Coding (24CS002PC215)  \n",
        "**Date:** October 7, 2025\n",
        "\n",
        "---\n",
        "\n",
        "## Lab Objectives:\n",
        "- Understand the importance of code readability, maintainability, and quality\n",
        "- Explore how AI-assisted coding tools can review code and suggest improvements\n",
        "- Practice identifying code smells, redundant code, and poor naming conventions\n",
        "- Apply AI tools for refactoring and improving readability\n",
        "- Critically evaluate AI feedback and integrate it into real projects"
      ],
      "metadata": {
        "id": "Uz3DEIshqfN2"
      }
    },
    {
      "cell_type": "markdown",
      "source": [
        "---\n",
        "\n",
        "## Task 1: AI-Assisted Code Review (Basic Errors)\n",
        "\n",
        "**Objective:** Write a Python program with intentional errors, then use AI to review and suggest corrections.\n",
        "\n",
        "**Prompt to AI:** \"In this Python code but I'm getting some errors. Can you review it and tell me what's wrong? Please explain each issue and suggest fixes.\"\n",
        "\n",
        "### Original Code (with errors):"
      ],
      "metadata": {
        "id": "RA-dNRwhqlVz"
      }
    },
    {
      "cell_type": "code",
      "source": [
        "# Original code with errors - DO NOT RUN (demonstrating bad code)\n",
        "def calculate_sum(nums):\n",
        "    total = 0\n",
        "    for i in range(len(nums))\n",
        "        total += nums[i]\n",
        "    return total\n",
        "\n",
        "numbers = [1, 2, 3, 4, 5\n",
        "result = calculate_sum(numbers)\n",
        "print(f\"The sum is {result}\")"
      ],
      "metadata": {
        "id": "Mkh8HZUoqrKm"
      },
      "execution_count": null,
      "outputs": []
    },
    {
      "cell_type": "markdown",
      "source": [
        "### AI Review Response:\n",
        "\n",
        "**Issues Found:**\n",
        "\n",
        "1. **Line 4 - Missing colon (:):** The `for` loop statement is missing a colon at the end\n",
        "   - Error: `for i in range(len(nums))`\n",
        "   - Should be: `for i in range(len(nums)):`\n",
        "\n",
        "2. **Line 8 - Missing closing bracket:** The list declaration is incomplete\n",
        "   - Error: `numbers = [1, 2, 3, 4, 5`\n",
        "   - Should be: `numbers = [1, 2, 3, 4, 5]`\n",
        "\n",
        "3. **Code Smell - Inefficient iteration:** Using `range(len())` is not Pythonic\n",
        "   - Better approach: Iterate directly over the list or use built-in `sum()`\n",
        "\n",
        "**Comments on Code Quality:**\n",
        "- The function name is descriptive, which is good\n",
        "- However, using index-based iteration when direct iteration is cleaner is a code smell\n",
        "- For this simple task, Python's built-in `sum()` function would be more appropriate\n",
        "\n",
        "### Corrected Code:"
      ],
      "metadata": {
        "id": "W10POLTrqu9P"
      }
    },
    {
      "cell_type": "code",
      "source": [
        "# Corrected code with AI suggestions applied\n",
        "def calculate_sum(nums):\n",
        "    \"\"\"Calculate the sum of numbers in a list.\"\"\"\n",
        "    total = 0\n",
        "    for i in range(len(nums)):  # Fixed: Added missing colon\n",
        "        total += nums[i]\n",
        "    return total\n",
        "\n",
        "# Fixed: Added closing bracket\n",
        "numbers = [1, 2, 3, 4, 5]\n",
        "result = calculate_sum(numbers)\n",
        "print(f\"The sum is {result}\")\n",
        "\n",
        "# Even better - Pythonic approach\n",
        "def calculate_sum_pythonic(nums):\n",
        "    \"\"\"Calculate sum using direct iteration - more Pythonic.\"\"\"\n",
        "    total = 0\n",
        "    for num in nums:  # Direct iteration instead of range(len())\n",
        "        total += num\n",
        "    return total\n",
        "\n",
        "result_pythonic = calculate_sum_pythonic(numbers)\n",
        "print(f\"Pythonic approach result: {result_pythonic}\")\n",
        "\n",
        "# Best practice - using built-in\n",
        "result_builtin = sum(numbers)\n",
        "print(f\"Using built-in sum(): {result_builtin}\")"
      ],
      "metadata": {
        "colab": {
          "base_uri": "https://localhost:8080/"
        },
        "id": "bkez3TcBq1PS",
        "outputId": "a7417db9-00ce-45bf-e001-21a63e8b7283"
      },
      "execution_count": null,
      "outputs": [
        {
          "output_type": "stream",
          "name": "stdout",
          "text": [
            "The sum is 15\n",
            "Pythonic approach result: 15\n",
            "Using built-in sum(): 15\n"
          ]
        }
      ]
    },
    {
      "cell_type": "markdown",
      "source": [
        "---\n",
        "\n",
        "## Task 2: Automatic Inline Comments and Code Formatting\n",
        "\n",
        "**Objective:** Write a Fibonacci function with poor readability, then use AI to improve variable names, add comments, and apply PEP8 formatting.\n",
        "\n",
        "**Prompt to AI:** \"I have this Fibonacci code but it's hard to read. Can you help me improve the variable names to be more descriptive, add helpful inline comments explaining what each part does, and format it according to PEP8 standards? Make it more professional and maintainable.\"\n",
        "\n",
        "### Original Fibonacci Code (poor readability):"
      ],
      "metadata": {
        "id": "0V6io2NBq_5X"
      }
    },
    {
      "cell_type": "code",
      "source": [
        "# Original Fibonacci - poor readability\n",
        "def f(n):\n",
        "    a,b=0,1\n",
        "    for i in range(n):\n",
        "        print(a,end=' ')\n",
        "        a,b=b,a+b\n",
        "\n",
        "f(10)"
      ],
      "metadata": {
        "colab": {
          "base_uri": "https://localhost:8080/"
        },
        "id": "x4gq0VpRrGmA",
        "outputId": "e4724c7c-1fbf-407b-932c-29a419be79dc"
      },
      "execution_count": null,
      "outputs": [
        {
          "output_type": "stream",
          "name": "stdout",
          "text": [
            "0 1 1 2 3 5 8 13 21 34 "
          ]
        }
      ]
    },
    {
      "cell_type": "code",
      "source": [
        "# AI-Improved Fibonacci - Better readability with PEP8 formatting\n",
        "\n",
        "def generate_fibonacci_sequence(count):\n",
        "    \"\"\"\n",
        "    Generate and print Fibonacci sequence up to 'count' terms.\n",
        "\n",
        "    Args:\n",
        "        count (int): Number of Fibonacci terms to generate\n",
        "    \"\"\"\n",
        "    # Initialize the first two Fibonacci numbers\n",
        "    previous_number = 0\n",
        "    current_number = 1\n",
        "\n",
        "    # Generate the sequence by iterating 'count' times\n",
        "    for iteration in range(count):\n",
        "        # Print the current Fibonacci number\n",
        "        print(previous_number, end=' ')\n",
        "\n",
        "        # Calculate the next number in sequence and update values\n",
        "        # Simultaneously update both variables (Python tuple unpacking)\n",
        "        previous_number, current_number = current_number, previous_number + current_number\n",
        "\n",
        "# Call the function with 10 terms\n",
        "print(\"\\nImproved Fibonacci Output:\")\n",
        "generate_fibonacci_sequence(10)\n",
        "print(\"\\n\\nKey Improvements:\")\n",
        "print(\"✓ Descriptive function and variable names\")\n",
        "print(\"✓ Inline comments explaining each step\")\n",
        "print(\"✓ PEP8 compliant formatting (proper spacing, naming conventions)\")\n",
        "print(\"✓ Docstring with parameter description\")"
      ],
      "metadata": {
        "colab": {
          "base_uri": "https://localhost:8080/"
        },
        "id": "LKtqqTaurM5d",
        "outputId": "919ceb6a-877c-46ba-b714-29f778a51186"
      },
      "execution_count": null,
      "outputs": [
        {
          "output_type": "stream",
          "name": "stdout",
          "text": [
            "\n",
            "Improved Fibonacci Output:\n",
            "0 1 1 2 3 5 8 13 21 34 \n",
            "\n",
            "Key Improvements:\n",
            "✓ Descriptive function and variable names\n",
            "✓ Inline comments explaining each step\n",
            "✓ PEP8 compliant formatting (proper spacing, naming conventions)\n",
            "✓ Docstring with parameter description\n"
          ]
        }
      ]
    },
    {
      "cell_type": "markdown",
      "source": [
        "---\n",
        "\n",
        "## Task 3: Professional Docstring Documentation\n",
        "\n",
        "**Objective:** Create a calculator module with proper NumPy-style docstrings for all functions.\n",
        "\n",
        "**Prompt to AI:** \"I need to create a calculator module with add, subtract, multiply, and divide functions. Can you help me write NumPy-style docstrings for each function and the module itself? Make them professional and include parameter descriptions, return types, and examples.\"\n",
        "\n",
        "### Calculator Module with Manual and AI-Generated Docstrings:"
      ],
      "metadata": {
        "id": "ix14_5-orUHo"
      }
    },
    {
      "cell_type": "code",
      "source": [
        "\"\"\"\n",
        "Calculator Module\n",
        "=================\n",
        "This module provides four fundamental arithmetic operations: addition, subtraction,\n",
        "multiplication, and division. Each function is documented using NumPy style.\n",
        "\"\"\"\n",
        "\n",
        "def add(a, b):\n",
        "    \"\"\"\n",
        "    Add two numbers.\n",
        "\n",
        "    Parameters\n",
        "    ----------\n",
        "    a : number\n",
        "        First number.\n",
        "    b : number\n",
        "        Second number.\n",
        "\n",
        "    Returns\n",
        "    -------\n",
        "    number\n",
        "        The sum of a and b.\n",
        "    \"\"\"\n",
        "    return a + b\n",
        "\n",
        "def subtract(a, b):\n",
        "    \"\"\"\n",
        "    Subtract two numbers.\n",
        "\n",
        "    Parameters\n",
        "    ----------\n",
        "    a : number\n",
        "        Minuend.\n",
        "    b : number\n",
        "        Subtrahend.\n",
        "\n",
        "    Returns\n",
        "    -------\n",
        "    number\n",
        "        The result of a minus b.\n",
        "    \"\"\"\n",
        "    return a - b\n",
        "\n",
        "def multiply(a, b):\n",
        "    \"\"\"\n",
        "    Multiply two numbers.\n",
        "\n",
        "    Parameters\n",
        "    ----------\n",
        "    a : number\n",
        "        First number.\n",
        "    b : number\n",
        "        Second number.\n",
        "\n",
        "    Returns\n",
        "    -------\n",
        "    number\n",
        "        The product of a and b.\n",
        "    \"\"\"\n",
        "    return a * b\n",
        "\n",
        "def divide(a, b):\n",
        "    \"\"\"\n",
        "    Divide two numbers.\n",
        "\n",
        "    Parameters\n",
        "    ----------\n",
        "    a : number\n",
        "        Numerator.\n",
        "    b : number\n",
        "        Denominator.\n",
        "\n",
        "    Returns\n",
        "    -------\n",
        "    float or str\n",
        "        The result of division. If denominator is zero, returns an error message.\n",
        "    \"\"\"\n",
        "    if b == 0:\n",
        "        return \"Error: Cannot divide by zero.\"\n",
        "    return a / b\n",
        "\n",
        "# Demonstration of the calculator functions\n",
        "print(\"Add:\", add(8, 5))\n",
        "print(\"Subtract:\", subtract(8, 5))\n",
        "print(\"Multiply:\", multiply(8, 5))\n",
        "print(\"Divide:\", divide(8, 5))\n"
      ],
      "metadata": {
        "id": "FsTFysnRramg",
        "colab": {
          "base_uri": "https://localhost:8080/"
        },
        "outputId": "5e640507-e877-41c3-c19f-fb206cbecdcc"
      },
      "execution_count": null,
      "outputs": [
        {
          "output_type": "stream",
          "name": "stdout",
          "text": [
            "Add: 13\n",
            "Subtract: 3\n",
            "Multiply: 40\n",
            "Divide: 1.6\n"
          ]
        }
      ]
    }
  ]
}
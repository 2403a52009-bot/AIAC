{
  "nbformat": 4,
  "nbformat_minor": 0,
  "metadata": {
    "colab": {
      "provenance": []
    },
    "kernelspec": {
      "name": "python3",
      "display_name": "Python 3"
    },
    "language_info": {
      "name": "python"
    }
  },
  "cells": [
    {
      "cell_type": "markdown",
      "source": [
        "prompt 1: I want you to efficiently refactor the given code the expected output must be in ictionary-based dispatch or separate functions and Cleaner and modular design"
      ],
      "metadata": {
        "id": "ChbYnPWV4m_r"
      }
    },
    {
      "cell_type": "code",
      "source": [
        "def calculate_area_rectangle(x, y):\n",
        "  return x * y\n",
        "\n",
        "def calculate_area_square(x):\n",
        "  return x * x\n",
        "\n",
        "def calculate_area_circle(x):\n",
        "  return 3.14 * x * x\n",
        "\n",
        "def calculate_area(shape, x, y=0):\n",
        "  area_dispatch = {\n",
        "      \"rectangle\": calculate_area_rectangle,\n",
        "      \"square\": calculate_area_square,\n",
        "      \"circle\": calculate_area_circle,\n",
        "  }\n",
        "  if shape in area_dispatch:\n",
        "    if shape == \"rectangle\":\n",
        "      return area_dispatch[shape](x, y)\n",
        "    else:\n",
        "      return area_dispatch[shape](x)\n",
        "  else:\n",
        "    return \"Invalid shape\""
      ],
      "metadata": {
        "id": "ZhJYscVw4li0"
      },
      "execution_count": 3,
      "outputs": []
    },
    {
      "cell_type": "markdown",
      "source": [
        "prompt 2: I have provided you with legacy code, check for errors of you find any fix them and also mention the corrected error in comments"
      ],
      "metadata": {
        "id": "4Wyd7jY75ULZ"
      }
    },
    {
      "cell_type": "code",
      "source": [
        "def read_file(filename):\n",
        "  # Corrected indentation for opening the file\n",
        "  f = open(filename, \"r\")\n",
        "  # Corrected indentation for reading the file\n",
        "  data = f.read()\n",
        "  # Corrected indentation for closing the file\n",
        "  f.close()\n",
        "  return data"
      ],
      "metadata": {
        "id": "JdvMHUl-5Wpu"
      },
      "execution_count": 4,
      "outputs": []
    },
    {
      "cell_type": "markdown",
      "source": [
        "**Prompt 3:** here is the legacy class but in finding difficulty in reading and understanding the terms (variables) therefore i want you to improve the readability of both variables and print statements also provide docstrings for better understanding"
      ],
      "metadata": {
        "id": "DCcKqvpO6ms1"
      }
    },
    {
      "cell_type": "code",
      "source": [
        "class Student:\n",
        "  \"\"\"\n",
        "  Represents a student with their name, age, and marks in three subjects.\n",
        "  \"\"\"\n",
        "  def __init__(self, name, age, mark1, mark2, mark3):\n",
        "    \"\"\"\n",
        "    Initializes a new Student object.\n",
        "\n",
        "    Args:\n",
        "      name (str): The name of the student.\n",
        "      age (int): The age of the student.\n",
        "      mark1 (int): The mark in the first subject.\n",
        "      mark2 (int): The mark in the second subject.\n",
        "      mark3 (int): The mark in the third subject.\n",
        "    \"\"\"\n",
        "    self.name = name\n",
        "    self.age = age\n",
        "    self.mark1 = mark1\n",
        "    self.mark2 = mark2\n",
        "    self.mark3 = mark3\n",
        "\n",
        "  def details(self):\n",
        "    \"\"\"\n",
        "    Prints the name and age of the student.\n",
        "    \"\"\"\n",
        "    print(f\"Student Name: {self.name}, Age: {self.age}\")\n",
        "\n",
        "  def total(self):\n",
        "    \"\"\"\n",
        "    Calculates and returns the total marks of the student.\n",
        "\n",
        "    Returns:\n",
        "      int: The sum of marks in the three subjects.\n",
        "    \"\"\"\n",
        "    return self.mark1 + self.mark2 + self.mark3"
      ],
      "metadata": {
        "id": "f65aLHEA6oRT"
      },
      "execution_count": 5,
      "outputs": []
    },
    {
      "cell_type": "markdown",
      "source": [
        "**Prompt 4:** In the below code i want you to check for efficiency and improve the looping efficiency if needed, provide comments to understand the changes you have made"
      ],
      "metadata": {
        "id": "zPqkzXvi7j84"
      }
    },
    {
      "cell_type": "code",
      "source": [
        "nums = [1,2,3,4,5,6,7,8,9,10]\n",
        "# Using a list comprehension for a more efficient way to calculate squares\n",
        "squares = [i * i for i in nums]"
      ],
      "metadata": {
        "id": "pBj-7Jya7pRa"
      },
      "execution_count": 6,
      "outputs": []
    }
  ]
}